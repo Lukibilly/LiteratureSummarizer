{
 "cells": [
  {
   "cell_type": "code",
   "execution_count": 18,
   "metadata": {},
   "outputs": [],
   "source": [
    "import openai\n",
    "import os\n",
    "import langchain as lc\n",
    "from langchain.llms import OpenAI\n",
    "# from langchain.document_loaders import UnstructuredPDFLoader\n",
    "from langchain.document_loaders import PyPDFLoader\n",
    "from langchain.vectorstores import FAISS\n",
    "from langchain.embeddings.openai import OpenAIEmbeddings\n",
    "\n",
    "key = os.getenv('OPENAI_API_KEY_BENNY')\n",
    "openai.api_key = key"
   ]
  },
  {
   "cell_type": "code",
   "execution_count": 19,
   "metadata": {},
   "outputs": [],
   "source": [
    "def add_book_to_index(indexname, newbookname):\n",
    "    createfile = False\n",
    "    savefile = False\n",
    "\n",
    "    # Check if filecreation needed\n",
    "    if not os.path.exists(indexname):\n",
    "        print(\"Path doesnt exist, everthing needs to be done.\")\n",
    "        createfile = True\n",
    "        savefile = True\n",
    "        # Check if Book already in index\n",
    "    else:\n",
    "        print(\"Index exists.\")\n",
    "        with open(indexname+'.txt','r') as f:\n",
    "            if newbookname+'\\n' not in f:\n",
    "                print(\"File not in index.\")\n",
    "                savefile = True\n",
    "            else:\n",
    "                print(\"File already in index.\")\n",
    "    #Create files\n",
    "    if createfile:\n",
    "        open(indexname + '.txt', 'x')\n",
    "\n",
    "    if savefile:\n",
    "        loader = PyPDFLoader(\"PDFliterature/\" + indexname + \"/\" + newbookname + '.pdf')\n",
    "        pages = loader.load_and_split()\n",
    "\n",
    "        if createfile:\n",
    "            index = FAISS.from_documents(pages, OpenAIEmbeddings())\n",
    "        else:\n",
    "            index = FAISS.load_local(indexname, OpenAIEmbeddings())\n",
    "            index.add_documents(pages)\n",
    "            \n",
    "        index.save_local(indexname)\n",
    "        with open(indexname + '.txt', 'a') as f:\n",
    "            f.write(newbookname + '\\n')"
   ]
  },
  {
   "cell_type": "code",
   "execution_count": 20,
   "metadata": {},
   "outputs": [],
   "source": [
    "indexname = 'MLBennyLiterature'"
   ]
  },
  {
   "cell_type": "code",
   "execution_count": 21,
   "metadata": {},
   "outputs": [
    {
     "name": "stdout",
     "output_type": "stream",
     "text": [
      "Adding Learning with kernels,  Schölkopf, Bernhard_Smola, Alexander J to MLBennyLiteratureindex.\n",
      "Index exists.\n",
      "File already in index.\n",
      "Adding Math for Machine Learning to MLBennyLiteratureindex.\n",
      "Index exists.\n",
      "File already in index.\n",
      "Adding Rasmussen, Willians - Gaussian Processes for ML to MLBennyLiteratureindex.\n",
      "Index exists.\n",
      "File already in index.\n"
     ]
    }
   ],
   "source": [
    "# Update Literature Index\n",
    "for file in os.listdir(\"PDFliterature/\" + indexname):\n",
    "    if file.endswith(\".pdf\"):\n",
    "        print(\"Adding \" + file[:-4] + \" to \" + indexname + \"index.\")\n",
    "        add_book_to_index(indexname, file[:-4])"
   ]
  }
 ],
 "metadata": {
  "kernelspec": {
   "display_name": "llm",
   "language": "python",
   "name": "python3"
  },
  "language_info": {
   "codemirror_mode": {
    "name": "ipython",
    "version": 3
   },
   "file_extension": ".py",
   "mimetype": "text/x-python",
   "name": "python",
   "nbconvert_exporter": "python",
   "pygments_lexer": "ipython3",
   "version": "3.10.9"
  },
  "orig_nbformat": 4,
  "vscode": {
   "interpreter": {
    "hash": "933dce98bf61a4902d825366162a2ce88f553287061ad73881693586a36ccc30"
   }
  }
 },
 "nbformat": 4,
 "nbformat_minor": 2
}
